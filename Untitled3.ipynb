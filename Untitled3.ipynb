{
  "nbformat": 4,
  "nbformat_minor": 0,
  "metadata": {
    "colab": {
      "provenance": [],
      "gpuType": "T4",
      "mount_file_id": "1h4QkHdiOI6DEjkhPlVn8c_OL9SYcv9Vo",
      "authorship_tag": "ABX9TyMcuklYrjAn8BBGFUj00E1b",
      "include_colab_link": true
    },
    "kernelspec": {
      "name": "python3",
      "display_name": "Python 3"
    },
    "language_info": {
      "name": "python"
    },
    "accelerator": "GPU"
  },
  "cells": [
    {
      "cell_type": "markdown",
      "metadata": {
        "id": "view-in-github",
        "colab_type": "text"
      },
      "source": [
        "<a href=\"https://colab.research.google.com/github/Rionzagal/Pi2-Eq139/blob/main/Untitled3.ipynb\" target=\"_parent\"><img src=\"https://colab.research.google.com/assets/colab-badge.svg\" alt=\"Open In Colab\"/></a>"
      ]
    },
    {
      "cell_type": "markdown",
      "source": [
        "### Setup the environment"
      ],
      "metadata": {
        "id": "S12vMoB3Bl-R"
      }
    },
    {
      "cell_type": "code",
      "source": [
        "import tensorflow_datasets as tfds\n",
        "\n",
        "import numpy as np\n",
        "\n",
        "from matplotlib import pyplot as pyplot"
      ],
      "metadata": {
        "id": "iFIxtkmUBlG2"
      },
      "execution_count": 20,
      "outputs": []
    },
    {
      "cell_type": "code",
      "execution_count": 2,
      "metadata": {
        "colab": {
          "base_uri": "https://localhost:8080/"
        },
        "id": "HKafAbROsNHg",
        "outputId": "c7963cf9-e373-4a18-da0d-5deab34c980b"
      },
      "outputs": [
        {
          "output_type": "stream",
          "name": "stdout",
          "text": [
            "Drive already mounted at /content/drive; to attempt to forcibly remount, call drive.mount(\"/content/drive\", force_remount=True).\n"
          ]
        }
      ],
      "source": [
        "from google.colab import drive\n",
        "drive.mount('/content/drive')"
      ]
    },
    {
      "cell_type": "markdown",
      "source": [
        "### Import the dataset as 3D images"
      ],
      "metadata": {
        "id": "6Sda2ay3B06n"
      }
    },
    {
      "cell_type": "code",
      "source": [
        "import h5py\n",
        "dataset = h5py.File(\n",
        "    \"/content/drive/MyDrive/datasets/CREMI/sample_A_20160501.hdf\",\n",
        "    mode=\"r\"\n",
        "    )\n",
        "\n",
        "print(dataset.keys())\n",
        "print(dataset[\"volumes\"][\"labels\"].keys())\n",
        "print(dataset[\"volumes\"][\"raw\"])\n",
        "dataset[\"annotations\"][\"ids\"]"
      ],
      "metadata": {
        "id": "6VevuXzgFwgG",
        "colab": {
          "base_uri": "https://localhost:8080/"
        },
        "outputId": "608f5568-e239-46a2-9c10-c2d824b1cf34"
      },
      "execution_count": 15,
      "outputs": [
        {
          "output_type": "stream",
          "name": "stdout",
          "text": [
            "<KeysViewHDF5 ['__DATA_TYPES__', 'annotations', 'volumes']>\n",
            "<KeysViewHDF5 ['clefts', 'neuron_ids']>\n",
            "<HDF5 dataset \"raw\": shape (125, 1250, 1250), type \"|u1\">\n"
          ]
        },
        {
          "output_type": "execute_result",
          "data": {
            "text/plain": [
              "<HDF5 dataset \"ids\": shape (432,), type \"<u8\">"
            ]
          },
          "metadata": {},
          "execution_count": 15
        }
      ]
    },
    {
      "cell_type": "code",
      "source": [
        "image = dataset[\"volumes\"][\"raw\"]\n",
        "masks = dataset[\"volumes\"][\"labels\"][\"neuron_ids\"]\n",
        "\n",
        "print(f\"Original image shape: {image.shape}; dtype: {image.dtype}\")\n",
        "print(f\"Labels image shape: {masks.shape}; dtype: {image.dtype}\")"
      ],
      "metadata": {
        "colab": {
          "base_uri": "https://localhost:8080/"
        },
        "id": "WawUiOJ2b7-W",
        "outputId": "ff0268e4-a04c-44c5-d869-d6dc4c35a3e0"
      },
      "execution_count": 19,
      "outputs": [
        {
          "output_type": "stream",
          "name": "stdout",
          "text": [
            "Original image shape: (125, 1250, 1250); dtype: uint8\n",
            "Labels image shape: (125, 1250, 1250); dtype: uint8\n"
          ]
        }
      ]
    },
    {
      "cell_type": "markdown",
      "source": [
        "### Data augmentation models"
      ],
      "metadata": {
        "id": "xfXDwgrixul1"
      }
    },
    {
      "cell_type": "code",
      "source": [
        "from keras.models import Sequential\n",
        "from keras.layers import RandomFlip, RandomZoom, RandomRotation,\\\n",
        "  RandomContrast, Rescaling\n",
        "\n",
        "rescale = Sequential([\n",
        "  Rescaling(1./255)\n",
        "])\n",
        "\n",
        "data_augmentation = Sequential([\n",
        "    # Random flipping\n",
        "    RandomFlip(\"horizontal_and_vertical\"),\n",
        "    # Random zoom\n",
        "    RandomZoom(.1, .2),\n",
        "    # Random rotation\n",
        "    RandomRotation(0.2),\n",
        "    # Randomized contrast\n",
        "    RandomContrast(0.1)\n",
        "])"
      ],
      "metadata": {
        "id": "r6Zi_9Yvs007"
      },
      "execution_count": 4,
      "outputs": []
    },
    {
      "cell_type": "markdown",
      "source": [
        "### Model generation for 3D segmentation"
      ],
      "metadata": {
        "id": "aiYtmO6W0UJa"
      }
    },
    {
      "cell_type": "code",
      "source": [
        "from keras.models import Model\n",
        "from keras.layers import Input, Conv3D, MaxPooling3D, UpSampling3D,\\\n",
        "  concatenate, Conv3DTranspose, BatchNormalization, Dropout, Lambda\n",
        "from keras.optimizers import Adam\n",
        "from keras.layers import Activation, MaxPool3D, Concatenate\n",
        "\n",
        "\n",
        "def conv_block(input, num_filters):\n",
        "    x = Conv3D(num_filters, 3, padding=\"same\")(input)\n",
        "    x = BatchNormalization()(x)   #Not in the original network.\n",
        "    x = Activation(\"relu\")(x)\n",
        "\n",
        "    x = Conv3D(num_filters, 3, padding=\"same\")(x)\n",
        "    x = BatchNormalization()(x)  #Not in the original network\n",
        "    x = Activation(\"relu\")(x)\n",
        "\n",
        "    return x\n",
        "\n",
        "#Encoder block: Conv block followed by maxpooling\n",
        "def encoder_block(input, num_filters):\n",
        "    x = conv_block(input, num_filters)\n",
        "    p = MaxPool3D((2, 2, 2))(x)\n",
        "    return x, p\n",
        "\n",
        "#Decoder block\n",
        "#skip features gets input from encoder for concatenation\n",
        "def decoder_block(input, skip_features, num_filters):\n",
        "    x = Conv3DTranspose(num_filters, (2, 2, 2), strides=2, padding=\"same\")(input)\n",
        "    x = Concatenate()([x, skip_features])\n",
        "    x = conv_block(x, num_filters)\n",
        "    return x\n",
        "\n",
        "#Build Unet using the blocks\n",
        "def build_unet(input_shape, n_classes):\n",
        "    inputs = Input(input_shape)\n",
        "\n",
        "    s1, p1 = encoder_block(inputs, 64)\n",
        "    s2, p2 = encoder_block(p1, 128)\n",
        "    s3, p3 = encoder_block(p2, 256)\n",
        "    s4, p4 = encoder_block(p3, 512)\n",
        "\n",
        "    b1 = conv_block(p4, 1024) #Bridge\n",
        "\n",
        "  d1 = decoder_block(b1, s4, 512)\n",
        "    d2 = decoder_block(d1, s3, 256)\n",
        "    d3 = decoder_block(d2, s2, 128)\n",
        "    d4 = decoder_block(d3, s1, 64)\n",
        "\n",
        "    if n_classes == 1:  #Binary\n",
        "      activation = 'sigmoid'\n",
        "    else:\n",
        "      activation = 'softmax'\n",
        "\n",
        "    # Change the activation based on n_classes\n",
        "    outputs = Conv3D(n_classes, 1, padding=\"same\", activation=activation)(d4)\n",
        "    print(activation)\n",
        "\n",
        "    model = Model(inputs, outputs, name=\"U-Net\")\n",
        "    return model"
      ],
      "metadata": {
        "id": "RvtwDaZB0Zr3"
      },
      "execution_count": null,
      "outputs": []
    },
    {
      "cell_type": "code",
      "source": [
        "from keras import backend as K\n",
        "\n",
        "def dice_coefficient(y_true, y_pred):\n",
        "    smoothing_factor = 1\n",
        "    flat_y_true = K.flatten(y_true)\n",
        "    flat_y_pred = K.flatten(y_pred)\n",
        "    return (2. * K.sum(flat_y_true * flat_y_pred) + smoothing_factor) / (K.sum(flat_y_true) + K.sum(flat_y_pred) + smoothing_factor)\n",
        "\n",
        "def dice_coefficient_loss(y_true, y_pred):\n",
        "    return 1 - dice_coefficient(y_true, y_pred)"
      ],
      "metadata": {
        "id": "O8v54vdn17yy"
      },
      "execution_count": null,
      "outputs": []
    },
    {
      "cell_type": "code",
      "source": [
        "model = tf.keras.models.Sequential(\n",
        "\n",
        ")"
      ],
      "metadata": {
        "id": "ULdLhLJIe4_x"
      },
      "execution_count": null,
      "outputs": []
    }
  ]
}