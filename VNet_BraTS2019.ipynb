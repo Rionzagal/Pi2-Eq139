{
  "cells": [
    {
      "cell_type": "markdown",
      "metadata": {
        "id": "kX2I2CvkpfkR"
      },
      "source": [
        "# VNet for BraTS2019"
      ]
    },
    {
      "cell_type": "markdown",
      "metadata": {
        "id": "mjWq7rd6prXG"
      },
      "source": [
        "Original github : https://github.com/black0017/MedicalZooPytorch\n",
        "\n",
        "Any changes to be made on this notebook for it to compile will be notified."
      ]
    },
    {
      "cell_type": "markdown",
      "metadata": {
        "id": "tlOydB8jpTtf"
      },
      "source": [
        "## Cloning github repository"
      ]
    },
    {
      "cell_type": "markdown",
      "metadata": {
        "id": "_IIPdvjQqAdp"
      },
      "source": [
        "Do not use the original github, the following line should work to further train model on a Brats2019 sample."
      ]
    },
    {
      "cell_type": "code",
      "execution_count": 1,
      "metadata": {
        "colab": {
          "base_uri": "https://localhost:8080/"
        },
        "id": "GeXXJ4ZmpFwL",
        "outputId": "beaab21e-445d-4984-a7d8-9ce639fe6751"
      },
      "outputs": [
        {
          "output_type": "stream",
          "name": "stdout",
          "text": [
            "Cloning into 'MedicalZooPytorch'...\n",
            "remote: Enumerating objects: 1159, done.\u001b[K\n",
            "remote: Counting objects: 100% (36/36), done.\u001b[K\n",
            "remote: Compressing objects: 100% (36/36), done.\u001b[K\n",
            "remote: Total 1159 (delta 15), reused 4 (delta 0), pack-reused 1123\u001b[K\n",
            "Receiving objects: 100% (1159/1159), 51.80 MiB | 22.63 MiB/s, done.\n",
            "Resolving deltas: 100% (620/620), done.\n"
          ]
        }
      ],
      "source": [
        "!git clone https://github.com/cyprien-n/MedicalZooPytorch"
      ]
    },
    {
      "cell_type": "code",
      "source": [
        "!git add .\n",
        "!git commit -m \"modifications\"\n",
        "!git push origin main"
      ],
      "metadata": {
        "id": "kPTYRogLI_MB"
      },
      "execution_count": null,
      "outputs": []
    },
    {
      "cell_type": "markdown",
      "metadata": {
        "id": "SdrzwcJNrCru"
      },
      "source": [
        "## Requirements"
      ]
    },
    {
      "cell_type": "markdown",
      "metadata": {
        "id": "8nhe7-iRrFrS"
      },
      "source": [
        "Changes were made to the orignal file so this should work on its own."
      ]
    },
    {
      "cell_type": "code",
      "execution_count": null,
      "metadata": {
        "colab": {
          "base_uri": "https://localhost:8080/"
        },
        "id": "qkVK-b9Fqx9E",
        "outputId": "fd04ebbe-8c4c-4b21-ab7d-44af80f5a3e2"
      },
      "outputs": [
        {
          "output_type": "stream",
          "name": "stdout",
          "text": [
            "Requirement already satisfied: scipy>=1.4.1 in /usr/local/lib/python3.10/dist-packages (from -r ./MedicalZooPytorch/installation/requirements.txt (line 1)) (1.11.4)\n",
            "Requirement already satisfied: numpy>=1.18.2 in /usr/local/lib/python3.10/dist-packages (from -r ./MedicalZooPytorch/installation/requirements.txt (line 2)) (1.23.5)\n",
            "Requirement already satisfied: torch==2.1.0 in /usr/local/lib/python3.10/dist-packages (from -r ./MedicalZooPytorch/installation/requirements.txt (line 3)) (2.1.0+cu121)\n",
            "Requirement already satisfied: nibabel>=3.0.2 in /usr/local/lib/python3.10/dist-packages (from -r ./MedicalZooPytorch/installation/requirements.txt (line 4)) (4.0.2)\n",
            "Requirement already satisfied: tensorboard>=2.2.0 in /usr/local/lib/python3.10/dist-packages (from -r ./MedicalZooPytorch/installation/requirements.txt (line 5)) (2.15.1)\n",
            "Requirement already satisfied: torchsummary>=1.5.1 in /usr/local/lib/python3.10/dist-packages (from -r ./MedicalZooPytorch/installation/requirements.txt (line 6)) (1.5.1)\n",
            "Collecting torchnet>=0.0.4 (from -r ./MedicalZooPytorch/installation/requirements.txt (line 7))\n",
            "  Downloading torchnet-0.0.4.tar.gz (23 kB)\n",
            "  Preparing metadata (setup.py) ... \u001b[?25l\u001b[?25hdone\n",
            "Requirement already satisfied: matplotlib>=3.2.1 in /usr/local/lib/python3.10/dist-packages (from -r ./MedicalZooPytorch/installation/requirements.txt (line 8)) (3.7.1)\n",
            "Requirement already satisfied: Pillow>=7.0.0 in /usr/local/lib/python3.10/dist-packages (from -r ./MedicalZooPytorch/installation/requirements.txt (line 9)) (9.4.0)\n",
            "Collecting torchsummaryX (from -r ./MedicalZooPytorch/installation/requirements.txt (line 10))\n",
            "  Downloading torchsummaryX-1.3.0-py3-none-any.whl (3.6 kB)\n",
            "Requirement already satisfied: filelock in /usr/local/lib/python3.10/dist-packages (from torch==2.1.0->-r ./MedicalZooPytorch/installation/requirements.txt (line 3)) (3.13.1)\n",
            "Requirement already satisfied: typing-extensions in /usr/local/lib/python3.10/dist-packages (from torch==2.1.0->-r ./MedicalZooPytorch/installation/requirements.txt (line 3)) (4.5.0)\n",
            "Requirement already satisfied: sympy in /usr/local/lib/python3.10/dist-packages (from torch==2.1.0->-r ./MedicalZooPytorch/installation/requirements.txt (line 3)) (1.12)\n",
            "Requirement already satisfied: networkx in /usr/local/lib/python3.10/dist-packages (from torch==2.1.0->-r ./MedicalZooPytorch/installation/requirements.txt (line 3)) (3.2.1)\n",
            "Requirement already satisfied: jinja2 in /usr/local/lib/python3.10/dist-packages (from torch==2.1.0->-r ./MedicalZooPytorch/installation/requirements.txt (line 3)) (3.1.3)\n",
            "Requirement already satisfied: fsspec in /usr/local/lib/python3.10/dist-packages (from torch==2.1.0->-r ./MedicalZooPytorch/installation/requirements.txt (line 3)) (2023.6.0)\n",
            "Requirement already satisfied: triton==2.1.0 in /usr/local/lib/python3.10/dist-packages (from torch==2.1.0->-r ./MedicalZooPytorch/installation/requirements.txt (line 3)) (2.1.0)\n",
            "Requirement already satisfied: packaging>=17.0 in /usr/local/lib/python3.10/dist-packages (from nibabel>=3.0.2->-r ./MedicalZooPytorch/installation/requirements.txt (line 4)) (23.2)\n",
            "Requirement already satisfied: setuptools in /usr/local/lib/python3.10/dist-packages (from nibabel>=3.0.2->-r ./MedicalZooPytorch/installation/requirements.txt (line 4)) (67.7.2)\n",
            "Requirement already satisfied: absl-py>=0.4 in /usr/local/lib/python3.10/dist-packages (from tensorboard>=2.2.0->-r ./MedicalZooPytorch/installation/requirements.txt (line 5)) (1.4.0)\n",
            "Requirement already satisfied: grpcio>=1.48.2 in /usr/local/lib/python3.10/dist-packages (from tensorboard>=2.2.0->-r ./MedicalZooPytorch/installation/requirements.txt (line 5)) (1.60.0)\n",
            "Requirement already satisfied: google-auth<3,>=1.6.3 in /usr/local/lib/python3.10/dist-packages (from tensorboard>=2.2.0->-r ./MedicalZooPytorch/installation/requirements.txt (line 5)) (2.17.3)\n",
            "Requirement already satisfied: google-auth-oauthlib<2,>=0.5 in /usr/local/lib/python3.10/dist-packages (from tensorboard>=2.2.0->-r ./MedicalZooPytorch/installation/requirements.txt (line 5)) (1.2.0)\n",
            "Requirement already satisfied: markdown>=2.6.8 in /usr/local/lib/python3.10/dist-packages (from tensorboard>=2.2.0->-r ./MedicalZooPytorch/installation/requirements.txt (line 5)) (3.5.2)\n",
            "Requirement already satisfied: protobuf<4.24,>=3.19.6 in /usr/local/lib/python3.10/dist-packages (from tensorboard>=2.2.0->-r ./MedicalZooPytorch/installation/requirements.txt (line 5)) (3.20.3)\n",
            "Requirement already satisfied: requests<3,>=2.21.0 in /usr/local/lib/python3.10/dist-packages (from tensorboard>=2.2.0->-r ./MedicalZooPytorch/installation/requirements.txt (line 5)) (2.31.0)\n",
            "Requirement already satisfied: six>1.9 in /usr/local/lib/python3.10/dist-packages (from tensorboard>=2.2.0->-r ./MedicalZooPytorch/installation/requirements.txt (line 5)) (1.16.0)\n",
            "Requirement already satisfied: tensorboard-data-server<0.8.0,>=0.7.0 in /usr/local/lib/python3.10/dist-packages (from tensorboard>=2.2.0->-r ./MedicalZooPytorch/installation/requirements.txt (line 5)) (0.7.2)\n",
            "Requirement already satisfied: werkzeug>=1.0.1 in /usr/local/lib/python3.10/dist-packages (from tensorboard>=2.2.0->-r ./MedicalZooPytorch/installation/requirements.txt (line 5)) (3.0.1)\n",
            "Collecting visdom (from torchnet>=0.0.4->-r ./MedicalZooPytorch/installation/requirements.txt (line 7))\n",
            "  Downloading visdom-0.2.4.tar.gz (1.4 MB)\n",
            "\u001b[2K     \u001b[90m━━━━━━━━━━━━━━━━━━━━━━━━━━━━━━━━━━━━━━━━\u001b[0m \u001b[32m1.4/1.4 MB\u001b[0m \u001b[31m7.6 MB/s\u001b[0m eta \u001b[36m0:00:00\u001b[0m\n",
            "\u001b[?25h  Preparing metadata (setup.py) ... \u001b[?25l\u001b[?25hdone\n",
            "Requirement already satisfied: contourpy>=1.0.1 in /usr/local/lib/python3.10/dist-packages (from matplotlib>=3.2.1->-r ./MedicalZooPytorch/installation/requirements.txt (line 8)) (1.2.0)\n",
            "Requirement already satisfied: cycler>=0.10 in /usr/local/lib/python3.10/dist-packages (from matplotlib>=3.2.1->-r ./MedicalZooPytorch/installation/requirements.txt (line 8)) (0.12.1)\n",
            "Requirement already satisfied: fonttools>=4.22.0 in /usr/local/lib/python3.10/dist-packages (from matplotlib>=3.2.1->-r ./MedicalZooPytorch/installation/requirements.txt (line 8)) (4.47.2)\n",
            "Requirement already satisfied: kiwisolver>=1.0.1 in /usr/local/lib/python3.10/dist-packages (from matplotlib>=3.2.1->-r ./MedicalZooPytorch/installation/requirements.txt (line 8)) (1.4.5)\n",
            "Requirement already satisfied: pyparsing>=2.3.1 in /usr/local/lib/python3.10/dist-packages (from matplotlib>=3.2.1->-r ./MedicalZooPytorch/installation/requirements.txt (line 8)) (3.1.1)\n",
            "Requirement already satisfied: python-dateutil>=2.7 in /usr/local/lib/python3.10/dist-packages (from matplotlib>=3.2.1->-r ./MedicalZooPytorch/installation/requirements.txt (line 8)) (2.8.2)\n",
            "Requirement already satisfied: pandas in /usr/local/lib/python3.10/dist-packages (from torchsummaryX->-r ./MedicalZooPytorch/installation/requirements.txt (line 10)) (1.5.3)\n",
            "Requirement already satisfied: cachetools<6.0,>=2.0.0 in /usr/local/lib/python3.10/dist-packages (from google-auth<3,>=1.6.3->tensorboard>=2.2.0->-r ./MedicalZooPytorch/installation/requirements.txt (line 5)) (5.3.2)\n",
            "Requirement already satisfied: pyasn1-modules>=0.2.1 in /usr/local/lib/python3.10/dist-packages (from google-auth<3,>=1.6.3->tensorboard>=2.2.0->-r ./MedicalZooPytorch/installation/requirements.txt (line 5)) (0.3.0)\n",
            "Requirement already satisfied: rsa<5,>=3.1.4 in /usr/local/lib/python3.10/dist-packages (from google-auth<3,>=1.6.3->tensorboard>=2.2.0->-r ./MedicalZooPytorch/installation/requirements.txt (line 5)) (4.9)\n",
            "Requirement already satisfied: requests-oauthlib>=0.7.0 in /usr/local/lib/python3.10/dist-packages (from google-auth-oauthlib<2,>=0.5->tensorboard>=2.2.0->-r ./MedicalZooPytorch/installation/requirements.txt (line 5)) (1.3.1)\n",
            "Requirement already satisfied: charset-normalizer<4,>=2 in /usr/local/lib/python3.10/dist-packages (from requests<3,>=2.21.0->tensorboard>=2.2.0->-r ./MedicalZooPytorch/installation/requirements.txt (line 5)) (3.3.2)\n",
            "Requirement already satisfied: idna<4,>=2.5 in /usr/local/lib/python3.10/dist-packages (from requests<3,>=2.21.0->tensorboard>=2.2.0->-r ./MedicalZooPytorch/installation/requirements.txt (line 5)) (3.6)\n",
            "Requirement already satisfied: urllib3<3,>=1.21.1 in /usr/local/lib/python3.10/dist-packages (from requests<3,>=2.21.0->tensorboard>=2.2.0->-r ./MedicalZooPytorch/installation/requirements.txt (line 5)) (2.0.7)\n",
            "Requirement already satisfied: certifi>=2017.4.17 in /usr/local/lib/python3.10/dist-packages (from requests<3,>=2.21.0->tensorboard>=2.2.0->-r ./MedicalZooPytorch/installation/requirements.txt (line 5)) (2023.11.17)\n",
            "Requirement already satisfied: MarkupSafe>=2.1.1 in /usr/local/lib/python3.10/dist-packages (from werkzeug>=1.0.1->tensorboard>=2.2.0->-r ./MedicalZooPytorch/installation/requirements.txt (line 5)) (2.1.3)\n",
            "Requirement already satisfied: pytz>=2020.1 in /usr/local/lib/python3.10/dist-packages (from pandas->torchsummaryX->-r ./MedicalZooPytorch/installation/requirements.txt (line 10)) (2023.3.post1)\n",
            "Requirement already satisfied: mpmath>=0.19 in /usr/local/lib/python3.10/dist-packages (from sympy->torch==2.1.0->-r ./MedicalZooPytorch/installation/requirements.txt (line 3)) (1.3.0)\n",
            "Requirement already satisfied: tornado in /usr/local/lib/python3.10/dist-packages (from visdom->torchnet>=0.0.4->-r ./MedicalZooPytorch/installation/requirements.txt (line 7)) (6.3.2)\n",
            "Collecting jsonpatch (from visdom->torchnet>=0.0.4->-r ./MedicalZooPytorch/installation/requirements.txt (line 7))\n",
            "  Downloading jsonpatch-1.33-py2.py3-none-any.whl (12 kB)\n",
            "Requirement already satisfied: websocket-client in /usr/local/lib/python3.10/dist-packages (from visdom->torchnet>=0.0.4->-r ./MedicalZooPytorch/installation/requirements.txt (line 7)) (1.7.0)\n",
            "Requirement already satisfied: pyasn1<0.6.0,>=0.4.6 in /usr/local/lib/python3.10/dist-packages (from pyasn1-modules>=0.2.1->google-auth<3,>=1.6.3->tensorboard>=2.2.0->-r ./MedicalZooPytorch/installation/requirements.txt (line 5)) (0.5.1)\n",
            "Requirement already satisfied: oauthlib>=3.0.0 in /usr/local/lib/python3.10/dist-packages (from requests-oauthlib>=0.7.0->google-auth-oauthlib<2,>=0.5->tensorboard>=2.2.0->-r ./MedicalZooPytorch/installation/requirements.txt (line 5)) (3.2.2)\n",
            "Collecting jsonpointer>=1.9 (from jsonpatch->visdom->torchnet>=0.0.4->-r ./MedicalZooPytorch/installation/requirements.txt (line 7))\n",
            "  Downloading jsonpointer-2.4-py2.py3-none-any.whl (7.8 kB)\n",
            "Building wheels for collected packages: torchnet, visdom\n",
            "  Building wheel for torchnet (setup.py) ... \u001b[?25l\u001b[?25hdone\n",
            "  Created wheel for torchnet: filename=torchnet-0.0.4-py3-none-any.whl size=29728 sha256=8c0dea93bd1b933d831f19e15e9a8b8b4d5e738d1c328a1c5765a4aa683dd0b9\n",
            "  Stored in directory: /root/.cache/pip/wheels/f7/ae/94/9f5edd6871983f30967ad11d60ef434c3d1b007654de4c8065\n",
            "  Building wheel for visdom (setup.py) ... \u001b[?25l\u001b[?25hdone\n",
            "  Created wheel for visdom: filename=visdom-0.2.4-py3-none-any.whl size=1408194 sha256=cd9c33c1cacedc5a0434bd7a49b128c27b6a2ca74a71b2b81185419bdbca3389\n",
            "  Stored in directory: /root/.cache/pip/wheels/42/29/49/5bed207bac4578e4d2c0c5fc0226bfd33a7e2953ea56356855\n",
            "Successfully built torchnet visdom\n",
            "Installing collected packages: jsonpointer, jsonpatch, visdom, torchsummaryX, torchnet\n",
            "Successfully installed jsonpatch-1.33 jsonpointer-2.4 torchnet-0.0.4 torchsummaryX-1.3.0 visdom-0.2.4\n"
          ]
        }
      ],
      "source": [
        "!pip install -r ./MedicalZooPytorch/installation/requirements.txt"
      ]
    },
    {
      "cell_type": "code",
      "execution_count": null,
      "metadata": {
        "colab": {
          "base_uri": "https://localhost:8080/"
        },
        "id": "1nd_xWh6q_uO",
        "outputId": "4a57dce6-8787-4f6a-8fa3-0d276d7cd4c2"
      },
      "outputs": [
        {
          "output_type": "stream",
          "name": "stdout",
          "text": [
            "Looking in links: https://download.pytorch.org/whl/cu121/torch_stable.html\n",
            "Requirement already satisfied: torch==2.1.0+cu121 in /usr/local/lib/python3.10/dist-packages (2.1.0+cu121)\n",
            "Requirement already satisfied: torchvision==0.16.0+cu121 in /usr/local/lib/python3.10/dist-packages (0.16.0+cu121)\n",
            "Requirement already satisfied: filelock in /usr/local/lib/python3.10/dist-packages (from torch==2.1.0+cu121) (3.13.1)\n",
            "Requirement already satisfied: typing-extensions in /usr/local/lib/python3.10/dist-packages (from torch==2.1.0+cu121) (4.5.0)\n",
            "Requirement already satisfied: sympy in /usr/local/lib/python3.10/dist-packages (from torch==2.1.0+cu121) (1.12)\n",
            "Requirement already satisfied: networkx in /usr/local/lib/python3.10/dist-packages (from torch==2.1.0+cu121) (3.2.1)\n",
            "Requirement already satisfied: jinja2 in /usr/local/lib/python3.10/dist-packages (from torch==2.1.0+cu121) (3.1.3)\n",
            "Requirement already satisfied: fsspec in /usr/local/lib/python3.10/dist-packages (from torch==2.1.0+cu121) (2023.6.0)\n",
            "Requirement already satisfied: triton==2.1.0 in /usr/local/lib/python3.10/dist-packages (from torch==2.1.0+cu121) (2.1.0)\n",
            "Requirement already satisfied: numpy in /usr/local/lib/python3.10/dist-packages (from torchvision==0.16.0+cu121) (1.23.5)\n",
            "Requirement already satisfied: requests in /usr/local/lib/python3.10/dist-packages (from torchvision==0.16.0+cu121) (2.31.0)\n",
            "Requirement already satisfied: pillow!=8.3.*,>=5.3.0 in /usr/local/lib/python3.10/dist-packages (from torchvision==0.16.0+cu121) (9.4.0)\n",
            "Requirement already satisfied: MarkupSafe>=2.0 in /usr/local/lib/python3.10/dist-packages (from jinja2->torch==2.1.0+cu121) (2.1.3)\n",
            "Requirement already satisfied: charset-normalizer<4,>=2 in /usr/local/lib/python3.10/dist-packages (from requests->torchvision==0.16.0+cu121) (3.3.2)\n",
            "Requirement already satisfied: idna<4,>=2.5 in /usr/local/lib/python3.10/dist-packages (from requests->torchvision==0.16.0+cu121) (3.6)\n",
            "Requirement already satisfied: urllib3<3,>=1.21.1 in /usr/local/lib/python3.10/dist-packages (from requests->torchvision==0.16.0+cu121) (2.0.7)\n",
            "Requirement already satisfied: certifi>=2017.4.17 in /usr/local/lib/python3.10/dist-packages (from requests->torchvision==0.16.0+cu121) (2023.11.17)\n",
            "Requirement already satisfied: mpmath>=0.19 in /usr/local/lib/python3.10/dist-packages (from sympy->torch==2.1.0+cu121) (1.3.0)\n"
          ]
        }
      ],
      "source": [
        "!pip install torch==2.1.0+cu121 torchvision==0.16.0+cu121 -f https://download.pytorch.org/whl/cu121/torch_stable.html"
      ]
    },
    {
      "cell_type": "markdown",
      "metadata": {
        "id": "aO-TLlrfrxBs"
      },
      "source": [
        "## Extract Dataset"
      ]
    },
    {
      "cell_type": "markdown",
      "metadata": {
        "id": "oKBSrJ1usR-s"
      },
      "source": [
        "The first step is to download the dataset.\n",
        "\n",
        "Here is the link to my dataset :\n",
        "https://drive.google.com/drive/folders/1uG6qA0V7VtwxJfBuxguhYed27S4nQcOb?usp=drive_link\n",
        "\n",
        "\n",
        "Else, the BraTS2019 dataset can be found here : https://www.kaggle.com/datasets/debobratachakraborty/brats2019-dataset\n",
        "\n",
        "The model of this notebook was trained on only one image. In order to do that, download the 5 files related to an image from the link above, unzipp them, then create a BraTS2019 file in your google drive and put the 5 files in there (unzipped).\n",
        "\n",
        "Then mount your drive to this notebook with the following command :"
      ]
    },
    {
      "cell_type": "code",
      "execution_count": null,
      "metadata": {
        "colab": {
          "base_uri": "https://localhost:8080/"
        },
        "id": "10lgvEDZry46",
        "outputId": "d3810219-d163-4c83-8d03-796174176368"
      },
      "outputs": [
        {
          "output_type": "stream",
          "name": "stdout",
          "text": [
            "Mounted at /content/drive\n"
          ]
        }
      ],
      "source": [
        "from google.colab import drive\n",
        "drive.mount('/content/drive')"
      ]
    },
    {
      "cell_type": "markdown",
      "metadata": {
        "id": "GrGmC5AvsFPJ"
      },
      "source": [
        "The following command should be modified accordingly :\n",
        "\n",
        "Change '/content/drive/MyDrive/BraTS19'\n",
        "for the path of your dataset if you called it differently than mine"
      ]
    },
    {
      "cell_type": "code",
      "execution_count": null,
      "metadata": {
        "id": "O6GjHgPZsCXQ"
      },
      "outputs": [],
      "source": [
        "%cp -r '/content/drive/MyDrive/BraTS19' '/content/MedicalZooPytorch/datasets/MICCAI_2019_pathology_challenge'"
      ]
    },
    {
      "cell_type": "markdown",
      "metadata": {
        "id": "IVQrL1h9t8uD"
      },
      "source": [
        "If you made a mistake or want to change your dataset, compile the command below to remove the dataset you first extracted and then recompile the command above"
      ]
    },
    {
      "cell_type": "code",
      "execution_count": null,
      "metadata": {
        "id": "drdPXHDnuNJY"
      },
      "outputs": [],
      "source": [
        "# %rm -r '/content/MedicalZooPytorch/datasets/MICCAI_2019_pathology_challenge/BraTS19'"
      ]
    },
    {
      "cell_type": "markdown",
      "metadata": {
        "id": "l8A5cSsuucAC"
      },
      "source": [
        "## Copy train file outside of test\n",
        "because of  relative imports of lib problem"
      ]
    },
    {
      "cell_type": "code",
      "execution_count": null,
      "metadata": {
        "colab": {
          "base_uri": "https://localhost:8080/"
        },
        "id": "o85euX-NucbS",
        "outputId": "7ee103f1-57a7-43b8-e35e-5804d424906a"
      },
      "outputs": [
        {
          "output_type": "stream",
          "name": "stdout",
          "text": [
            "/content/MedicalZooPytorch\n"
          ]
        }
      ],
      "source": [
        "%cd /content/MedicalZooPytorch\n",
        "%cp /content/MedicalZooPytorch/tests/train_with_trainer_class.py /content/MedicalZooPytorch/train_with_trainer_class.py\n"
      ]
    },
    {
      "cell_type": "markdown",
      "metadata": {
        "id": "GBm1nHgQuhgb"
      },
      "source": [
        "## Start Training"
      ]
    },
    {
      "cell_type": "markdown",
      "metadata": {
        "id": "iqJqXPX5uy8i"
      },
      "source": [
        "The first time you will compile the following command, and error should be raised :\n",
        "\n",
        "AttributeError: 'Namespace' object has no attribute 'loadData'\n",
        "\n",
        "The only error that i wasn't able to avoid on the first compilation because it generates a document that needs to be modified. So you will only find it once you've tried to compile the command below.\n",
        "\n",
        "The document in question is train_with_trainer_class.py, it is located at the very end of the MedicalZooPytorch repository (not in any sub-files). Just above this file you should find a document named train_with_train_class_example.py. Copy the content of this document, and paste it in train_with_trainer_class.py after removing every line of code initialy in it and then save the modified file."
      ]
    },
    {
      "cell_type": "markdown",
      "source": [
        "You can change the number of epochs, batch size, model etc in train_with_trainer_class.py"
      ],
      "metadata": {
        "id": "veITtZdoNum1"
      }
    },
    {
      "cell_type": "code",
      "source": [
        "import torch"
      ],
      "metadata": {
        "id": "VwfoqNkoizdA"
      },
      "execution_count": null,
      "outputs": []
    },
    {
      "cell_type": "code",
      "execution_count": null,
      "metadata": {
        "colab": {
          "base_uri": "https://localhost:8080/"
        },
        "id": "UcI3J5b6ujUB",
        "outputId": "ffc829f5-adaf-4cbb-c815-dab4bd6bcdc6"
      },
      "outputs": [
        {
          "output_type": "stream",
          "name": "stdout",
          "text": [
            "2024-01-19 10:02:51.985096: E external/local_xla/xla/stream_executor/cuda/cuda_dnn.cc:9261] Unable to register cuDNN factory: Attempting to register factory for plugin cuDNN when one has already been registered\n",
            "2024-01-19 10:02:51.985159: E external/local_xla/xla/stream_executor/cuda/cuda_fft.cc:607] Unable to register cuFFT factory: Attempting to register factory for plugin cuFFT when one has already been registered\n",
            "2024-01-19 10:02:51.987017: E external/local_xla/xla/stream_executor/cuda/cuda_blas.cc:1515] Unable to register cuBLAS factory: Attempting to register factory for plugin cuBLAS when one has already been registered\n",
            "2024-01-19 10:02:53.731505: W tensorflow/compiler/tf2tensorrt/utils/py_utils.cc:38] TF-TRT Warning: Could not find TensorRT\n",
            "Namespace(batchSz=1, dataset_name='brats2019', dim=(64, 64, 64), nEpochs=2, classes=5, samples_train=100, samples_val=100, inChannels=4, inModalities=4, terminal_show_freq=50, threshold=0.1, augmentation=True, normalization='full_volume_mean', split=0.8, lr=0.01, loadData=True, cuda=True, resume='', model='VNET2', opt='sgd', log_dir='../runs/', save='../saved_models/VNET2_checkpoints/VNET2_19_01___10_02_brats2019_')\n",
            ".././datasets/MICCAI_2019_pathology_challenge/BraTS19/BraTS19_001\n",
            ".././datasets/MICCAI_2019_pathology_challenge/BraTS19/BraTS19_001/*t1.nii\n",
            "['/content/MedicalZooPytorch/datasets/MICCAI_2019_pathology_challenge/BraTS19/BraTS19_001/BraTS19_001_t1.nii']\n",
            "<lib.medloaders.brats2019.MICCAIBraTS2019 object at 0x7f23e13b13c0>\n",
            ".././datasets/MICCAI_2019_pathology_challenge/BraTS19/BraTS19_001\n",
            ".././datasets/MICCAI_2019_pathology_challenge/BraTS19/BraTS19_001/*t1.nii\n",
            "['/content/MedicalZooPytorch/datasets/MICCAI_2019_pathology_challenge/BraTS19/BraTS19_001/BraTS19_001_t1.nii']\n",
            "Number of train samples: 5\n",
            "DATA SAMPLES HAVE BEEN GENERATED SUCCESSFULLY\n",
            "Building Model . . . . . . . .VNET2\n",
            "VNET2 Number of params: 12258002\n",
            "Model transferred in GPU.....\n",
            "START TRAINING...\n",
            "\n",
            " 0 \n",
            " /content/MedicalZooPytorch/datasets/MICCAI_2019_pathology_challenge/BraTS19/BraTS19_001/BraTS19_001_t1.nii \n",
            "\n",
            "\n",
            " 2 \n",
            " /content/MedicalZooPytorch/datasets/MICCAI_2019_pathology_challenge/BraTS19/BraTS19_001/BraTS19_001_t2.nii \n",
            "\n",
            "\n",
            " 4 \n",
            " /content/MedicalZooPytorch/datasets/MICCAI_2019_pathology_challenge/BraTS19/BraTS19_001/BraTS19_001_seg.nii \n",
            "\n",
            "\n",
            " 3 \n",
            " /content/MedicalZooPytorch/datasets/MICCAI_2019_pathology_challenge/BraTS19/BraTS19_001/BraTS19_001_flair.nii \n",
            "\n",
            "\n",
            " 1 \n",
            " /content/MedicalZooPytorch/datasets/MICCAI_2019_pathology_challenge/BraTS19/BraTS19_001/BraTS19_001_t1ce.nii \n",
            "\n",
            "Size of out before up_conv: torch.Size([1, 128, 30, 30, 19])\n",
            "Size of out after up_conv: torch.Size([1, 64, 60, 60, 38])\n",
            "Size of skipxdo: torch.Size([1, 64, 60, 60, 38])\n",
            "Size of xcat: torch.Size([1, 128, 60, 60, 38])\n",
            "Size of out after ops: torch.Size([1, 128, 60, 60, 38])\n",
            "Size of out before up_conv: torch.Size([1, 128, 60, 60, 38])\n",
            "Size of out after up_conv: torch.Size([1, 32, 120, 120, 76])\n",
            "Size of skipxdo: torch.Size([1, 32, 120, 120, 76])\n",
            "Size of xcat: torch.Size([1, 64, 120, 120, 76])\n",
            "Size of out after ops: torch.Size([1, 64, 120, 120, 76])\n",
            "Size of out before up_conv: torch.Size([1, 64, 120, 120, 76])\n",
            "Size of out after up_conv: torch.Size([1, 16, 240, 240, 152])\n",
            "Size of skipxdo: torch.Size([1, 16, 240, 240, 152])\n",
            "Size of xcat: torch.Size([1, 32, 240, 240, 152])\n",
            "Size of out after ops: torch.Size([1, 32, 240, 240, 152])\n",
            "output size :  torch.Size([1, 5, 240, 240, 152])\n",
            "target size :  torch.Size([1, 240, 240, 155])\n",
            "Traceback (most recent call last):\n",
            "  File \"/content/MedicalZooPytorch/train_with_trainer_class.py\", line 81, in <module>\n",
            "    main()\n",
            "  File \"/content/MedicalZooPytorch/train_with_trainer_class.py\", line 41, in main\n",
            "    trainer.training()\n",
            "  File \"/content/MedicalZooPytorch/lib/train/trainer.py\", line 35, in training\n",
            "    self.train_epoch(epoch)\n",
            "  File \"/content/MedicalZooPytorch/lib/train/trainer.py\", line 64, in train_epoch\n",
            "    loss_dice, per_ch_score = self.criterion(output, target)\n",
            "  File \"/usr/local/lib/python3.10/dist-packages/torch/nn/modules/module.py\", line 1518, in _wrapped_call_impl\n",
            "    return self._call_impl(*args, **kwargs)\n",
            "  File \"/usr/local/lib/python3.10/dist-packages/torch/nn/modules/module.py\", line 1527, in _call_impl\n",
            "    return forward_call(*args, **kwargs)\n",
            "  File \"/content/MedicalZooPytorch/lib/losses3D/BaseClass.py\", line 54, in forward\n",
            "    assert input.size() == target.size(), \"'input' and 'target' must have the same shape\"\n",
            "AssertionError: 'input' and 'target' must have the same shape\n"
          ]
        }
      ],
      "source": [
        "! python train_with_trainer_class.py"
      ]
    }
  ],
  "metadata": {
    "accelerator": "GPU",
    "colab": {
      "provenance": []
    },
    "kernelspec": {
      "display_name": "Python 3",
      "name": "python3"
    },
    "language_info": {
      "name": "python"
    }
  },
  "nbformat": 4,
  "nbformat_minor": 0
}